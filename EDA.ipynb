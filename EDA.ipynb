{
 "cells": [
  {
   "cell_type": "code",
   "execution_count": 28,
   "metadata": {},
   "outputs": [],
   "source": [
    "import pandas as pd\n",
    "import matplotlib.pyplot as plt\n",
    "\n",
    "historico_velocidad_internet = pd.read_csv(\"data_limpia\\historico_velocidad_internet.csv\", thousands='.')\n",
    "Internet_Accesos_por_tecnologia = pd.read_csv(\"data_limpia\\Internet_Accesos_por_tecnologia.csv\", engine='python', skipfooter=1, thousands='.')\n",
    "Internet_Accesos_por_velocidad = pd.read_csv(\"data_limpia\\Internet_Accesos_por_velocidad.csv\", thousands='.')\n",
    "Internet_BAF = pd.read_csv(\"data_limpia\\Internet_BAF.csv\", thousands='.')\n",
    "Internet_Penetracion = pd.read_csv(\"data_limpia\\Internet_Penetracion.csv\", thousands='.')\n",
    "Internet_Ingresos = pd.read_csv(\"data_limpia\\Internet_Ingresos.csv\", thousands='.')"
   ]
  },
  {
   "attachments": {},
   "cell_type": "markdown",
   "metadata": {},
   "source": [
    "Imprimo datos basicos de los dataframes: las primeras filas, la informacion general y las estadisticas descriptivas."
   ]
  },
  {
   "cell_type": "code",
   "execution_count": 29,
   "metadata": {},
   "outputs": [
    {
     "name": "stdout",
     "output_type": "stream",
     "text": [
      "    Año  Trimestre        Provincia  Mbps (Media de bajada)\n",
      "0  2022          3     Buenos Aires                      70\n",
      "1  2022          3  Capital Federal                     101\n",
      "2  2022          3        Catamarca                      61\n",
      "3  2022          3            Chaco                      53\n",
      "4  2022          3           Chubut                      16 \n",
      "\n",
      "<class 'pandas.core.frame.DataFrame'>\n",
      "RangeIndex: 840 entries, 0 to 839\n",
      "Data columns (total 4 columns):\n",
      " #   Column                  Non-Null Count  Dtype \n",
      "---  ------                  --------------  ----- \n",
      " 0   Año                     840 non-null    int64 \n",
      " 1   Trimestre               840 non-null    int64 \n",
      " 2   Provincia               840 non-null    object\n",
      " 3   Mbps (Media de bajada)  840 non-null    int64 \n",
      "dtypes: int64(3), object(1)\n",
      "memory usage: 26.4+ KB\n",
      "None \n",
      "\n",
      "               Año   Trimestre  Mbps (Media de bajada)\n",
      "count   840.000000  840.000000              840.000000\n",
      "mean   2017.885714    2.457143               13.841667\n",
      "std       2.528745    1.105009               14.669499\n",
      "min    2014.000000    1.000000                3.000000\n",
      "25%    2016.000000    1.000000                4.000000\n",
      "50%    2018.000000    2.000000                7.000000\n",
      "75%    2020.000000    3.000000               18.000000\n",
      "max    2022.000000    4.000000              101.000000\n"
     ]
    }
   ],
   "source": [
    "print(historico_velocidad_internet.head(), \"\\n\")\n",
    "print(historico_velocidad_internet.info(), \"\\n\")\n",
    "print(historico_velocidad_internet.describe())"
   ]
  },
  {
   "cell_type": "code",
   "execution_count": 30,
   "metadata": {},
   "outputs": [
    {
     "name": "stdout",
     "output_type": "stream",
     "text": [
      "    Año  Trimestre        Provincia    ADSL  Cablemodem  Fibra óptica   \n",
      "0  2022          3     Buenos Aires  339648     2748325       1436433  \\\n",
      "1  2022          3  Capital Federal  140791     1240125        129218   \n",
      "2  2022          3        Catamarca   10010       10495         46224   \n",
      "3  2022          3            Chaco   27164       61800         44645   \n",
      "4  2022          3           Chubut   45377       72212          9574   \n",
      "\n",
      "   Wireless  Otros    Total  \n",
      "0    126846  70416  4721668  \n",
      "1      5758  31787  1547679  \n",
      "2      1329   2235    70293  \n",
      "3      8178   2359   144146  \n",
      "4     29784   8831   165778   \n",
      "\n",
      "<class 'pandas.core.frame.DataFrame'>\n",
      "RangeIndex: 839 entries, 0 to 838\n",
      "Data columns (total 9 columns):\n",
      " #   Column        Non-Null Count  Dtype \n",
      "---  ------        --------------  ----- \n",
      " 0   Año           839 non-null    int64 \n",
      " 1   Trimestre     839 non-null    int64 \n",
      " 2   Provincia     839 non-null    object\n",
      " 3   ADSL          839 non-null    int64 \n",
      " 4   Cablemodem    839 non-null    int64 \n",
      " 5   Fibra óptica  839 non-null    int64 \n",
      " 6   Wireless      839 non-null    int64 \n",
      " 7   Otros         839 non-null    int64 \n",
      " 8   Total         839 non-null    int64 \n",
      "dtypes: int64(8), object(1)\n",
      "memory usage: 59.1+ KB\n",
      "None \n",
      "\n",
      "               Año   Trimestre          ADSL    Cablemodem  Fibra óptica   \n",
      "count   839.000000  839.000000  8.390000e+02  8.390000e+02  8.390000e+02  \\\n",
      "mean   2017.890346    2.458880  1.275643e+05  1.719797e+05  2.994737e+04   \n",
      "std       2.526686    1.104521  2.552064e+05  4.223762e+05  1.235706e+05   \n",
      "min    2014.000000    1.000000  6.842000e+03  0.000000e+00  0.000000e+00   \n",
      "25%    2016.000000    1.000000  2.246550e+04  8.682000e+03  1.890000e+02   \n",
      "50%    2018.000000    2.000000  4.853900e+04  3.498400e+04  1.093000e+03   \n",
      "75%    2020.000000    3.000000  1.039035e+05  7.077700e+04  1.389300e+04   \n",
      "max    2022.000000    4.000000  1.586343e+06  2.748325e+06  1.436433e+06   \n",
      "\n",
      "            Wireless         Otros         Total  \n",
      "count     839.000000    839.000000  8.390000e+02  \n",
      "mean    10357.315852   6150.166865  3.459988e+05  \n",
      "std     18199.371684  10576.395296  7.423487e+05  \n",
      "min         0.000000      2.000000  1.255700e+04  \n",
      "25%       253.000000    309.000000  5.202950e+04  \n",
      "50%      4264.000000   1852.000000  1.033990e+05  \n",
      "75%     12445.000000   6935.000000  1.780675e+05  \n",
      "max    126887.000000  73415.000000  4.721668e+06  \n"
     ]
    }
   ],
   "source": [
    "print(Internet_Accesos_por_tecnologia.head(), \"\\n\")\n",
    "print(Internet_Accesos_por_tecnologia.info(), \"\\n\")\n",
    "print(Internet_Accesos_por_tecnologia.describe())"
   ]
  },
  {
   "cell_type": "code",
   "execution_count": 31,
   "metadata": {},
   "outputs": [
    {
     "name": "stdout",
     "output_type": "stream",
     "text": [
      "    Año  Trimestre        Provincia  HASTA 512 kbps  + 512 Kbps - 1 Mbps   \n",
      "0  2022          3     Buenos Aires           29985                27709  \\\n",
      "1  2022          3  Capital Federal             517                 5742   \n",
      "2  2022          3        Catamarca              71                  384   \n",
      "3  2022          3            Chaco             461                  987   \n",
      "4  2022          3           Chubut             109                 1444   \n",
      "\n",
      "   + 1 Mbps - 6 Mbps  + 6 Mbps - 10 Mbps  + 10 Mbps - 20 Mbps   \n",
      "0             290315              297915               267044  \\\n",
      "1              34371               67829                51946   \n",
      "2               3107                5389                 5099   \n",
      "3              16782               18938                 8049   \n",
      "4              45707               30940                34682   \n",
      "\n",
      "   + 20 Mbps - 30 Mbps  + 30 Mbps   OTROS    Total  \n",
      "0               124190    3618689   65821  4721668  \n",
      "1                28692    1253105  105477  1547679  \n",
      "2                 3737      50298    2208    70293  \n",
      "3                15828      79390    3711   144146  \n",
      "4                15309      17563   20024   165778   \n",
      "\n",
      "<class 'pandas.core.frame.DataFrame'>\n",
      "RangeIndex: 840 entries, 0 to 839\n",
      "Data columns (total 12 columns):\n",
      " #   Column               Non-Null Count  Dtype \n",
      "---  ------               --------------  ----- \n",
      " 0   Año                  840 non-null    int64 \n",
      " 1   Trimestre            840 non-null    int64 \n",
      " 2   Provincia            840 non-null    object\n",
      " 3   HASTA 512 kbps       840 non-null    int64 \n",
      " 4   + 512 Kbps - 1 Mbps  840 non-null    int64 \n",
      " 5   + 1 Mbps - 6 Mbps    840 non-null    int64 \n",
      " 6   + 6 Mbps - 10 Mbps   840 non-null    int64 \n",
      " 7   + 10 Mbps - 20 Mbps  840 non-null    int64 \n",
      " 8   + 20 Mbps - 30 Mbps  840 non-null    int64 \n",
      " 9   + 30 Mbps            840 non-null    int64 \n",
      " 10  OTROS                840 non-null    int64 \n",
      " 11  Total                840 non-null    int64 \n",
      "dtypes: int64(11), object(1)\n",
      "memory usage: 78.9+ KB\n",
      "None \n",
      "\n",
      "               Año   Trimestre  HASTA 512 kbps  + 512 Kbps - 1 Mbps   \n",
      "count   840.000000  840.000000      840.000000           840.000000  \\\n",
      "mean   2017.885714    2.457143     2086.426190         10142.846429   \n",
      "std       2.528745    1.105009    13615.218242         22262.822375   \n",
      "min    2014.000000    1.000000        6.000000             0.000000   \n",
      "25%    2016.000000    1.000000       36.750000           307.000000   \n",
      "50%    2018.000000    2.000000      110.000000          2730.500000   \n",
      "75%    2020.000000    3.000000      568.000000          8130.250000   \n",
      "max    2022.000000    4.000000   238920.000000        171244.000000   \n",
      "\n",
      "       + 1 Mbps - 6 Mbps  + 6 Mbps - 10 Mbps  + 10 Mbps - 20 Mbps   \n",
      "count       8.400000e+02          840.000000           840.000000  \\\n",
      "mean        1.509700e+05        37396.558333         38292.270238   \n",
      "std         3.481538e+05        65406.204913         93996.489735   \n",
      "min         2.842000e+03            0.000000             0.000000   \n",
      "25%         2.853925e+04         2795.500000          1360.500000   \n",
      "50%         4.883450e+04        10014.000000          8553.500000   \n",
      "75%         8.689750e+04        38534.500000         26268.500000   \n",
      "max         2.299705e+06       403575.000000        886678.000000   \n",
      "\n",
      "       + 20 Mbps - 30 Mbps     + 30 Mbps          OTROS         Total  \n",
      "count           840.000000  8.400000e+02     840.000000  8.400000e+02  \n",
      "mean          20988.008333  7.917956e+04    4933.166667  3.439888e+05  \n",
      "std           74792.113400  3.426234e+05   12181.166620  7.373366e+05  \n",
      "min               0.000000  0.000000e+00   -1945.000000  1.240600e+04  \n",
      "25%              22.750000  7.000000e+00       0.000000  5.232825e+04  \n",
      "50%            1016.500000  8.825000e+02       0.000000  1.043330e+05  \n",
      "75%            9429.000000  1.966075e+04    5010.000000  1.775798e+05  \n",
      "max          949093.000000  3.618689e+06  120464.000000  4.721668e+06   \n",
      "\n"
     ]
    }
   ],
   "source": [
    "print(Internet_Accesos_por_velocidad.head(), \"\\n\")\n",
    "print(Internet_Accesos_por_velocidad.info(), \"\\n\")\n",
    "print(Internet_Accesos_por_velocidad.describe(), \"\\n\")"
   ]
  },
  {
   "cell_type": "code",
   "execution_count": 32,
   "metadata": {},
   "outputs": [
    {
     "name": "stdout",
     "output_type": "stream",
     "text": [
      "    Año  Trimestre        Provincia  Banda ancha fija Dial up    Total\n",
      "0  2022          3     Buenos Aires           4715469   6.199  4721668\n",
      "1  2022          3  Capital Federal           1545534   2.145  1547679\n",
      "2  2022          3        Catamarca             70292       1    70293\n",
      "3  2022          3            Chaco            144141       5   144146\n",
      "4  2022          3           Chubut            164874     904   165778 \n",
      "\n",
      "<class 'pandas.core.frame.DataFrame'>\n",
      "RangeIndex: 840 entries, 0 to 839\n",
      "Data columns (total 6 columns):\n",
      " #   Column            Non-Null Count  Dtype \n",
      "---  ------            --------------  ----- \n",
      " 0   Año               840 non-null    int64 \n",
      " 1   Trimestre         840 non-null    int64 \n",
      " 2   Provincia         840 non-null    object\n",
      " 3   Banda ancha fija  840 non-null    int64 \n",
      " 4   Dial up           840 non-null    object\n",
      " 5   Total             840 non-null    int64 \n",
      "dtypes: int64(4), object(2)\n",
      "memory usage: 39.5+ KB\n",
      "None \n",
      "\n",
      "               Año   Trimestre  Banda ancha fija         Total\n",
      "count   840.000000  840.000000      8.400000e+02  8.400000e+02\n",
      "mean   2017.885714    2.457143      3.447674e+05  3.457417e+05\n",
      "std       2.528745    1.105009      7.400503e+05  7.419436e+05\n",
      "min    2014.000000    1.000000      1.219300e+04  1.255700e+04\n",
      "25%    2016.000000    1.000000      5.192225e+04  5.202975e+04\n",
      "50%    2018.000000    2.000000      1.029360e+05  1.034895e+05\n",
      "75%    2020.000000    3.000000      1.778685e+05  1.779148e+05\n",
      "max    2022.000000    4.000000      4.715469e+06  4.721668e+06\n"
     ]
    }
   ],
   "source": [
    "print(Internet_BAF.head(), \"\\n\")\n",
    "print(Internet_BAF.info(), \"\\n\")\n",
    "print(Internet_BAF.describe())"
   ]
  },
  {
   "cell_type": "code",
   "execution_count": 33,
   "metadata": {},
   "outputs": [
    {
     "name": "stdout",
     "output_type": "stream",
     "text": [
      "    Año  Trimestre        Provincia  Accesos por cada 100 hogares\n",
      "0  2022          3     Buenos Aires                          7811\n",
      "1  2022          3  Capital Federal                         12228\n",
      "2  2022          3        Catamarca                          6533\n",
      "3  2022          3            Chaco                          4386\n",
      "4  2022          3           Chubut                          8438 \n",
      "\n",
      "<class 'pandas.core.frame.DataFrame'>\n",
      "RangeIndex: 840 entries, 0 to 839\n",
      "Data columns (total 4 columns):\n",
      " #   Column                        Non-Null Count  Dtype \n",
      "---  ------                        --------------  ----- \n",
      " 0   Año                           840 non-null    int64 \n",
      " 1   Trimestre                     840 non-null    int64 \n",
      " 2   Provincia                     840 non-null    object\n",
      " 3   Accesos por cada 100 hogares  840 non-null    int64 \n",
      "dtypes: int64(3), object(1)\n",
      "memory usage: 26.4+ KB\n",
      "None \n",
      "\n",
      "               Año   Trimestre  Accesos por cada 100 hogares\n",
      "count   840.000000  840.000000                    840.000000\n",
      "mean   2017.885714    2.457143                   4468.382143\n",
      "std       2.528745    1.105009                   2517.668103\n",
      "min    2014.000000    1.000000                     96.000000\n",
      "25%    2016.000000    1.000000                   2853.500000\n",
      "50%    2018.000000    2.000000                   4299.500000\n",
      "75%    2020.000000    3.000000                   5938.750000\n",
      "max    2022.000000    4.000000                  12406.000000\n"
     ]
    }
   ],
   "source": [
    "print(Internet_Penetracion.head(), \"\\n\")\n",
    "print(Internet_Penetracion.info(), \"\\n\")\n",
    "print(Internet_Penetracion.describe())"
   ]
  },
  {
   "cell_type": "code",
   "execution_count": 34,
   "metadata": {},
   "outputs": [
    {
     "name": "stdout",
     "output_type": "stream",
     "text": [
      "    Año  Trimestre  Ingresos (miles de pesos)        Periodo\n",
      "0  2022          3                   67055930  Jul-Sept 2022\n",
      "1  2022          2                   60335724   Abr-Jun 2022\n",
      "2  2022          1                   55589997   Ene-Mar 2022\n",
      "3  2021          4                   45467887   Oct-Dic 2021\n",
      "4  2021          3                   42999944  Jul-Sept 2021 \n",
      "\n",
      "<class 'pandas.core.frame.DataFrame'>\n",
      "RangeIndex: 35 entries, 0 to 34\n",
      "Data columns (total 4 columns):\n",
      " #   Column                     Non-Null Count  Dtype \n",
      "---  ------                     --------------  ----- \n",
      " 0   Año                        35 non-null     int64 \n",
      " 1   Trimestre                  35 non-null     int64 \n",
      " 2   Ingresos (miles de pesos)  35 non-null     int64 \n",
      " 3   Periodo                    35 non-null     object\n",
      "dtypes: int64(3), object(1)\n",
      "memory usage: 1.2+ KB\n",
      "None \n",
      "\n",
      "               Año  Trimestre  Ingresos (miles de pesos)\n",
      "count    35.000000  35.000000               3.500000e+01\n",
      "mean   2017.885714   2.457143               2.058845e+07\n",
      "std       2.564135   1.120474               1.774214e+07\n",
      "min    2014.000000   1.000000               2.984054e+06\n",
      "25%    2016.000000   1.500000               6.235543e+06\n",
      "50%    2018.000000   2.000000               1.431947e+07\n",
      "75%    2020.000000   3.000000               3.204996e+07\n",
      "max    2022.000000   4.000000               6.705593e+07\n"
     ]
    }
   ],
   "source": [
    "print(Internet_Ingresos.head(), \"\\n\")\n",
    "print(Internet_Ingresos.info(), \"\\n\")\n",
    "print(Internet_Ingresos.describe())"
   ]
  }
 ],
 "metadata": {
  "kernelspec": {
   "display_name": "telecom-env",
   "language": "python",
   "name": "python3"
  },
  "language_info": {
   "codemirror_mode": {
    "name": "ipython",
    "version": 3
   },
   "file_extension": ".py",
   "mimetype": "text/x-python",
   "name": "python",
   "nbconvert_exporter": "python",
   "pygments_lexer": "ipython3",
   "version": "3.11.3"
  },
  "orig_nbformat": 4
 },
 "nbformat": 4,
 "nbformat_minor": 2
}
