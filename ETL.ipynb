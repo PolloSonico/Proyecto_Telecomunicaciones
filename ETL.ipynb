{
 "cells": [
  {
   "cell_type": "code",
   "execution_count": 37,
   "metadata": {},
   "outputs": [],
   "source": [
    "import pandas as pd"
   ]
  },
  {
   "attachments": {},
   "cell_type": "markdown",
   "metadata": {},
   "source": [
    "Primero cargo los dataframes que me dan datos por año, trimestre y provincia.\n",
    "La ultima fila del dataframe \"Internet_Accesos_por_tecnologia\" contiene una aclaracion que afecta al funcionamiento de las funciones, asi que la ignoro."
   ]
  },
  {
   "cell_type": "code",
   "execution_count": 38,
   "metadata": {},
   "outputs": [],
   "source": [
    "historico_velocidad_internet = pd.read_csv(\"data_cruda\\historico_velocidad_internet.csv\", thousands='.')\n",
    "Internet_Accesos_por_tecnologia = pd.read_csv(\"data_cruda\\Internet_Accesos-por-tecnologia.csv\", engine='python', skipfooter=1, thousands='.')\n",
    "Internet_Accesos_por_velocidad = pd.read_csv(\"data_cruda\\Internet_Accesos-por-velocidad.csv\", thousands='.')\n",
    "Internet_BAF = pd.read_csv(\"data_cruda\\Internet_BAF.csv\", thousands='.')\n",
    "Internet_Penetracion = pd.read_csv(\"data_cruda\\Internet_Penetracion.csv\", thousands='.')\n",
    "Internet_Ingresos = pd.read_csv(\"data_cruda\\Internet_Ingresos.csv\", thousands='.')"
   ]
  },
  {
   "attachments": {},
   "cell_type": "markdown",
   "metadata": {},
   "source": [
    "Limpio un poco los datos de los dataframes."
   ]
  },
  {
   "cell_type": "code",
   "execution_count": 39,
   "metadata": {},
   "outputs": [],
   "source": [
    "#Elimino dos columnas vacias del df.\n",
    "historico_velocidad_internet = historico_velocidad_internet.drop([\"Unnamed: 4\", \"Unnamed: 5\"], axis=1)\n",
    "\n",
    "#Cambio los tipos de dato a numerico, primero limpiando filas que contienen otro tipo de caracter.\n",
    "#Recordar que los datos de los primeros 3 trimestres en el año 2019 tienen esta aclaracion : \n",
    "# \"Los datos provinciales no coinciden a nivel nacional, ya que se reincorporó información que no contiene apertuta a nivel geográfico.\"\n",
    "Internet_Accesos_por_tecnologia['Año'] = Internet_Accesos_por_tecnologia['Año'].str.replace(' *', '')\n",
    "Internet_Accesos_por_tecnologia['Trimestre'] = Internet_Accesos_por_tecnologia['Trimestre'].str.replace(' *', '')\n",
    "Internet_Accesos_por_tecnologia[['Año', 'Trimestre']] = Internet_Accesos_por_tecnologia[['Año', 'Trimestre']].astype(int)\n",
    "\n",
    "#A los datos nulos de la columna otros los lleno con ceros.\n",
    "Internet_Accesos_por_velocidad['OTROS'] = Internet_Accesos_por_velocidad['OTROS'].fillna(0)\n",
    "Internet_Accesos_por_velocidad['OTROS'] = Internet_Accesos_por_velocidad['OTROS'].astype(int)\n",
    "\n",
    "#Lleno dos datos vacios en Dial up con \"cero\"\n",
    "Internet_BAF['Dial up'] = Internet_BAF['Dial up'].fillna(0)\n",
    "\n",
    "#Elimino las comillas de la columna \"Accesos por cada 100 hogares\" y convierto los datos a flotantes.\n",
    "Internet_Penetracion['Accesos por cada 100 hogares'] = Internet_Penetracion['Accesos por cada 100 hogares'].str.replace('\"', '')\n",
    "Internet_Penetracion['Accesos por cada 100 hogares'] = Internet_Penetracion['Accesos por cada 100 hogares'].str.replace(',', '.')\n",
    "Internet_Penetracion['Accesos por cada 100 hogares'] = Internet_Penetracion['Accesos por cada 100 hogares'].astype(float)"
   ]
  },
  {
   "attachments": {},
   "cell_type": "markdown",
   "metadata": {},
   "source": [
    "Puse a comparar los datos de las columnas \"Total\" en los dataframes que tienen, asi descubri que hay 521 datos que difieren en la tabla \"Internet_Accesos_por_velocidad\"."
   ]
  },
  {
   "cell_type": "code",
   "execution_count": 40,
   "metadata": {},
   "outputs": [
    {
     "data": {
      "text/plain": [
       "521"
      ]
     },
     "execution_count": 40,
     "metadata": {},
     "output_type": "execute_result"
    }
   ],
   "source": [
    "Internet_BAF[Internet_BAF[\"Total\"] != Internet_Accesos_por_tecnologia[\"Total\"]]\n",
    "\n",
    "Internet_Accesos_por_tecnologia[Internet_Accesos_por_tecnologia[\"Total\"] != Internet_Accesos_por_velocidad[\"Total\"]].Total.count()"
   ]
  },
  {
   "attachments": {},
   "cell_type": "markdown",
   "metadata": {},
   "source": [
    "Quise verificar si la suma de las columnas da el valor de la columna \"total\" es igual a la suma del resto de valores, y detecte que hay 10 filas donde el resultado es incorrecto."
   ]
  },
  {
   "cell_type": "code",
   "execution_count": 41,
   "metadata": {},
   "outputs": [
    {
     "data": {
      "text/plain": [
       "10"
      ]
     },
     "execution_count": 41,
     "metadata": {},
     "output_type": "execute_result"
    }
   ],
   "source": [
    "Total_difiere_suma_columnas = Internet_Accesos_por_velocidad[\"Total\"] != Internet_Accesos_por_velocidad[['HASTA 512 kbps', '+ 512 Kbps - 1 Mbps', \n",
    "                                                                                                        '+ 1 Mbps - 6 Mbps', '+ 6 Mbps - 10 Mbps', \n",
    "                                                                                                        '+ 10 Mbps - 20 Mbps', '+ 20 Mbps - 30 Mbps', \n",
    "                                                                                                        '+ 30 Mbps', 'OTROS']].sum(axis=1)\n",
    "Internet_Accesos_por_velocidad[Total_difiere_suma_columnas].Total.count()"
   ]
  },
  {
   "attachments": {},
   "cell_type": "markdown",
   "metadata": {},
   "source": [
    "Exporto los datos limpios de los dataframes a nuevos csv."
   ]
  },
  {
   "cell_type": "code",
   "execution_count": 42,
   "metadata": {},
   "outputs": [],
   "source": [
    "historico_velocidad_internet.to_csv('data_limpia/historico_velocidad_internet.csv', index=False)\n",
    "Internet_Accesos_por_tecnologia.to_csv('data_limpia/Internet_Accesos_por_tecnologia.csv', index=False)\n",
    "Internet_Accesos_por_velocidad.to_csv('data_limpia/Internet_Accesos_por_velocidad.csv', index=False)\n",
    "Internet_BAF.to_csv('data_limpia/Internet_BAF.csv', index=False)\n",
    "Internet_Penetracion.to_csv('data_limpia/Internet_Penetracion.csv', index=False)\n",
    "Internet_Ingresos.to_csv('data_limpia/Internet_Ingresos.csv', index=False)"
   ]
  }
 ],
 "metadata": {
  "kernelspec": {
   "display_name": "telecom-env",
   "language": "python",
   "name": "python3"
  },
  "language_info": {
   "codemirror_mode": {
    "name": "ipython",
    "version": 3
   },
   "file_extension": ".py",
   "mimetype": "text/x-python",
   "name": "python",
   "nbconvert_exporter": "python",
   "pygments_lexer": "ipython3",
   "version": "3.11.3"
  },
  "orig_nbformat": 4
 },
 "nbformat": 4,
 "nbformat_minor": 2
}
